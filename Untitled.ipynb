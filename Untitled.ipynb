{
 "cells": [
  {
   "cell_type": "code",
   "execution_count": 16,
   "metadata": {},
   "outputs": [],
   "source": [
    "import glob\n",
    "import os\n",
    "\n",
    "files = list(set(glob.glob('packages/*/src/*.tsx') + glob.glob('packages/*/src/**/*.tsx')))\n",
    "\n",
    "for name in files:\n",
    "    with open(name) as f:\n",
    "        text = f.read()\n",
    "    if '''protected getChildComponent() {\n",
    "        return\n",
    "    ''' not in text:\n",
    "        continue\n",
    "    if 'PropMakerMetaComponent.simple(new PropMaker(), ' not in text:\n",
    "        continue\n",
    "    props_names = text.split('PropMakerMetaComponent.simple(new PropMaker(), ')[1].split('''),\n",
    "    [''')[1].split(']')[0]\n",
    "    props_names = '\\n'.join([props_names.split('\\n')[0]] + ['    ' + x for x in props_names.split('\\n')[1:]])\n",
    "    text = text.replace('''\n",
    "        return [\n",
    "            ???\n",
    "        ];''', '''\n",
    "        return [{}];'''.format(props_names))\n",
    "    child_component = text.split('''protected getChildComponent() {\n",
    "        return\n",
    "    ''')[1].split(',')[0]\n",
    "    text = text.split('''protected getChildComponent() {\n",
    "        return\n",
    "    ''')[0] + ('''protected getChildComponent() {{\n",
    "        return {};\n",
    "    }}\n",
    "}}\n",
    "'''.format(child_component))\n",
    "    with open(name, 'w') as f:\n",
    "        f.write(text)"
   ]
  },
  {
   "cell_type": "code",
   "execution_count": null,
   "metadata": {
    "collapsed": true
   },
   "outputs": [],
   "source": []
  }
 ],
 "metadata": {
  "kernelspec": {
   "display_name": "Python 3",
   "language": "python",
   "name": "python3"
  },
  "language_info": {
   "codemirror_mode": {
    "name": "ipython",
    "version": 3
   },
   "file_extension": ".py",
   "mimetype": "text/x-python",
   "name": "python",
   "nbconvert_exporter": "python",
   "pygments_lexer": "ipython3",
   "version": "3.6.1"
  }
 },
 "nbformat": 4,
 "nbformat_minor": 2
}
